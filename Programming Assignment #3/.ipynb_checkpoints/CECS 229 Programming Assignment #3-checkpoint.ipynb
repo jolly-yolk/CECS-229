{
 "cells": [
  {
   "cell_type": "markdown",
   "metadata": {},
   "source": [
    "# CECS 229 Programming Assignment #3\n",
    "\n",
    "#### Due Date: \n",
    "\n",
    "Sunday, 3/5 @ 11:59 PM\n",
    "\n",
    "#### Submission Instructions:\n",
    "\n",
    "To receive credit for this assignment you must submit to CodePost this file converted to a Python script named `pa3.py`\n",
    "\n",
    "#### Objectives:\n",
    "\n",
    "1. Find the inverse of a given integer under a given modulo m.\n",
    "2. Encrypt and decrypt text using an affine transformation.\n",
    "3. Encrypt and decrypt text using the RSA cryptosystem.\n",
    "\n",
    "\n",
    "\n",
    "\n",
    "### Programming Tasks\n",
    "\n",
    "You may use the utility functions at the end of this notebook to aid you in the implementation of the following tasks:"
   ]
  },
  {
   "cell_type": "markdown",
   "metadata": {},
   "source": [
    "------------------------------------------\n",
    "##### Utility functions (NO EDITS NECESSARY)"
   ]
  },
  {
   "cell_type": "code",
   "execution_count": 2,
   "metadata": {},
   "outputs": [],
   "source": [
    "def bezout_coeffs(a, b):\n",
    "    # FIXME: Implement this function\n",
    "    s0 = 1\n",
    "    t0 = 0\n",
    "    s1 = 0\n",
    "    t1 = 1\n",
    "    r = b % a\n",
    "    x = a\n",
    "    y = b\n",
    "    \n",
    "    while (r != 0):\n",
    "        sk = s0 - (b//a) * s1\n",
    "        tk = t0 - (b//a) * t1\n",
    "        b = a\n",
    "        a = r\n",
    "        r = b % a\n",
    "        s0 = s1\n",
    "        t0 = t1\n",
    "        s1 = sk\n",
    "        t1 = tk\n",
    "        \n",
    "    return {x : t1, y : s1}  \n",
    "\n",
    "def gcd(a,b):\n",
    "    # FIXME: Implement this function\n",
    "    x = bezout_coeffs(a, b)\n",
    "    return abs(a * x.get(a) + b * x.get(b))\n",
    "\n",
    "def primes(a, b):\n",
    "    if (a < 1):\n",
    "        raise Exception(\"Value Error: a is less than 1\")\n",
    "    elif (a > b):\n",
    "        raise Exception(\"Value Error: a is greater than b\")\n",
    "    elif (b == 2):\n",
    "        x = set()\n",
    "        x.add(2)\n",
    "        return x\n",
    "    \n",
    "    f_primes = set()\n",
    "    not_primes = set()\n",
    "    not_primes.add(1)\n",
    "    interval = set()\n",
    "    \n",
    "    for i in range(a, b + 1):\n",
    "        interval.add(i)\n",
    "        \n",
    "    for i in range(2, round(b ** 1/2) + 1):\n",
    "        f_primes.add(i)\n",
    "        \n",
    "    for i in range(a, b + 1):\n",
    "        for j in f_primes:\n",
    "            if (i != j):\n",
    "                if (i % j == 0):\n",
    "                    not_primes.add(i)\n",
    "    \n",
    "    return interval - not_primes\n",
    "\n",
    "def mod_exp(b, n, m):\n",
    "    # FIXME: Implement this function\n",
    "    if (b < 0):\n",
    "        return 0\n",
    "    x = 1\n",
    "    p = b % m\n",
    "    n = bin(n)[2:]\n",
    "    n = n[::-1]\n",
    "    for i in range(len(n)):\n",
    "        if (int(n[i]) == 1):\n",
    "            x = (x * p) % m\n",
    "        p = (p * p) % m\n",
    "    return x"
   ]
  },
  {
   "cell_type": "code",
   "execution_count": 3,
   "metadata": {},
   "outputs": [],
   "source": [
    "def blocksize(n):\n",
    "    \"\"\"returns the size of a block in an RSA encrypted string\"\"\"\n",
    "    twofive = \"25\"\n",
    "    while int(twofive) < n:\n",
    "        twofive += \"25\"\n",
    "    return len(twofive) - 2"
   ]
  },
  {
   "cell_type": "code",
   "execution_count": 4,
   "metadata": {},
   "outputs": [],
   "source": [
    "def digits2letters(digits):\n",
    "    letters = \"\"\n",
    "    start = 0  #initializing starting index of first digit\n",
    "    while start <= len(digits) - 2:\n",
    "        digit = digits[start : start + 2]  # accessing the double digit\n",
    "        letters += chr( int(digit) +65)   # concatenating to the string of letters\n",
    "        start += 2                         # updating the starting index for next digit\n",
    "    return letters"
   ]
  },
  {
   "cell_type": "code",
   "execution_count": 5,
   "metadata": {},
   "outputs": [],
   "source": [
    "def letters2digits(letters):\n",
    "    digits = \"\"\n",
    "    for c in letters:\n",
    "        if c.isalpha():\n",
    "            letter = c.upper()  #converting to uppercase  \n",
    "            d = ord(letter)-65\n",
    "            if d < 10:\n",
    "                digits += \"0\" + str(d)     # concatenating to the string of digits\n",
    "            else:\n",
    "                digits += str(d)\n",
    "    return digits"
   ]
  },
  {
   "cell_type": "markdown",
   "metadata": {},
   "source": [
    "-------------------------------------------\n",
    "\n",
    "#### Problem 1: \n",
    "Create a function `modinv(a,m)` that returns the smallest, positive inverse of `a` modulo `m`.  If the gcd of `a` and `m` is not 1, then you must raise a `ValueError` with message `\"The given values are not relatively prime\"`.  You may NOT use any built-in functions as part of your implementation, but you may use any functions you implemented in previous coding assignments.  Please make sure to copy and paste them into this file, so that they are uploaded to CodePost when you submit your `pa3.py` file."
   ]
  },
  {
   "cell_type": "code",
   "execution_count": 61,
   "metadata": {},
   "outputs": [],
   "source": [
    "def modinv(a,m):\n",
    "    \"\"\"returns the smallest, positive inverse of a modulo m\n",
    "    INPUT: a - integer\n",
    "           m - positive integer\n",
    "    OUTPUT: an integer in the range [0, m-1]\n",
    "    \"\"\"\n",
    "    if (gcd(a, m) != 1):\n",
    "        raise Exception('ValueError: The given values are not relatively prime')\n",
    "\n",
    "    for i in range(m - 1, 0, -1):\n",
    "        if (((a * i)) % m == 1):\n",
    "            return i\n",
    "        else:\n",
    "            continue"
   ]
  },
  {
   "cell_type": "markdown",
   "metadata": {},
   "source": [
    "------------------------------------\n",
    "\n",
    "#### Problem 2: \n",
    "Create a function `affineEncrypt(text, a,b)` that returns the cipher text encrypted using key  (`a`, `b`).  You must verify that the gcd(a, 26) = 1 before making the encryption.  If this is not the case, the function must raise a `ValueError` with message `\"The given key is invalid. The gcd(a,26) must be 1.\"`.  You may NOT use any built-in functions as part of your implementation, but you may use any functions you implemented in previous coding assignments.  Please make sure to copy and paste them into this file, so that they are uploaded to CodePost when you submit your `pa3.py` file."
   ]
  },
  {
   "cell_type": "code",
   "execution_count": 53,
   "metadata": {
    "scrolled": true
   },
   "outputs": [
    {
     "ename": "Exception",
     "evalue": "ValueError: The given key is invalid. The gcd(a, 26) must be 1.",
     "output_type": "error",
     "traceback": [
      "\u001b[1;31m---------------------------------------------------------------------------\u001b[0m",
      "\u001b[1;31mException\u001b[0m                                 Traceback (most recent call last)",
      "\u001b[1;32m~\\AppData\\Local\\Temp\\ipykernel_2608\\385270434.py\u001b[0m in \u001b[0;36m<module>\u001b[1;34m\u001b[0m\n\u001b[0;32m     34\u001b[0m     \u001b[1;32mreturn\u001b[0m \u001b[0mencrypt\u001b[0m\u001b[1;33m\u001b[0m\u001b[1;33m\u001b[0m\u001b[0m\n\u001b[0;32m     35\u001b[0m \u001b[1;33m\u001b[0m\u001b[0m\n\u001b[1;32m---> 36\u001b[1;33m \u001b[0mprint\u001b[0m\u001b[1;33m(\u001b[0m\u001b[0maffineEncrypt\u001b[0m\u001b[1;33m(\u001b[0m\u001b[1;34m\"ERROR\"\u001b[0m\u001b[1;33m,\u001b[0m \u001b[1;36m26\u001b[0m\u001b[1;33m,\u001b[0m \u001b[1;36m8\u001b[0m\u001b[1;33m)\u001b[0m\u001b[1;33m)\u001b[0m\u001b[1;33m\u001b[0m\u001b[1;33m\u001b[0m\u001b[0m\n\u001b[0m",
      "\u001b[1;32m~\\AppData\\Local\\Temp\\ipykernel_2608\\385270434.py\u001b[0m in \u001b[0;36maffineEncrypt\u001b[1;34m(text, a, b)\u001b[0m\n\u001b[0;32m      8\u001b[0m     \"\"\"\n\u001b[0;32m      9\u001b[0m     \u001b[1;32mif\u001b[0m \u001b[1;33m(\u001b[0m\u001b[0mgcd\u001b[0m\u001b[1;33m(\u001b[0m\u001b[0ma\u001b[0m\u001b[1;33m,\u001b[0m \u001b[1;36m26\u001b[0m\u001b[1;33m)\u001b[0m \u001b[1;33m!=\u001b[0m \u001b[1;36m1\u001b[0m\u001b[1;33m)\u001b[0m\u001b[1;33m:\u001b[0m\u001b[1;33m\u001b[0m\u001b[1;33m\u001b[0m\u001b[0m\n\u001b[1;32m---> 10\u001b[1;33m         \u001b[1;32mraise\u001b[0m \u001b[0mException\u001b[0m\u001b[1;33m(\u001b[0m\u001b[1;34m'ValueError: The given key is invalid. The gcd(a, 26) must be 1.'\u001b[0m\u001b[1;33m)\u001b[0m\u001b[1;33m\u001b[0m\u001b[1;33m\u001b[0m\u001b[0m\n\u001b[0m\u001b[0;32m     11\u001b[0m \u001b[1;33m\u001b[0m\u001b[0m\n\u001b[0;32m     12\u001b[0m     \u001b[0mencrypt\u001b[0m \u001b[1;33m=\u001b[0m \u001b[1;34m''\u001b[0m\u001b[1;33m\u001b[0m\u001b[1;33m\u001b[0m\u001b[0m\n",
      "\u001b[1;31mException\u001b[0m: ValueError: The given key is invalid. The gcd(a, 26) must be 1."
     ]
    }
   ],
   "source": [
    "def affineEncrypt(text, a, b):\n",
    "    \"\"\"encrypts the plaintext 'text', using an affine transformation key (a, b)\n",
    "    INPUT:  text - plaintext as a string of letters\n",
    "            a - integer satisfying gcd(a, 26) = 1.  Raises error if such is not the case\n",
    "            b - integer \n",
    "            \n",
    "    OUTPUT: The encrypted message as a string of characters\n",
    "    \"\"\"\n",
    "    if (gcd(a, 26) != 1):\n",
    "        raise Exception('ValueError: The given key is invalid. The gcd(a, 26) must be 1.')\n",
    "    \n",
    "    encrypt = ''\n",
    "    n_text = letters2digits(text)\n",
    "    slice = ''\n",
    "    \n",
    "    for number in n_text:\n",
    "        if (len(slice) != 2):\n",
    "            slice += number\n",
    "            continue\n",
    "        p = int(slice)\n",
    "        c = str(((a * p) + b) % 26)\n",
    "        if (len(c) != 2):\n",
    "            c = f'0{c}'\n",
    "        slice = ''\n",
    "        slice += number\n",
    "        encrypt += digits2letters(c)\n",
    "\n",
    "    p = int(slice)\n",
    "    c = str(((a * p) + b) % 26)\n",
    "    if (len(c) != 2):\n",
    "            c = f'0{c}'\n",
    "    encrypt += digits2letters(c)\n",
    "\n",
    "    return encrypt"
   ]
  },
  {
   "cell_type": "markdown",
   "metadata": {},
   "source": [
    "#### Problem 3: \n",
    "Create a function `affineDecrypt(ciphertext, a,b)` that returns the cipher text encrypted using key  (`a`, `b`). You must verify that the gcd(a, 26) = 1.  If this is not the case, the function must raise `ValueError` with message `\"The given key is invalid. The gcd(a,26) must be 1.\"`.  You may NOT use any built-in functions as part of your implementation, but you may use any functions you implemented in previous coding assignments.  Please make sure to copy and paste them into this file, so that they are uploaded to CodePost when you submit your `pa3.py` file."
   ]
  },
  {
   "cell_type": "code",
   "execution_count": 63,
   "metadata": {},
   "outputs": [
    {
     "data": {
      "text/plain": [
       "'COMPROMISED'"
      ]
     },
     "execution_count": 63,
     "metadata": {},
     "output_type": "execute_result"
    }
   ],
   "source": [
    "def affineDecrypt(ciphertext, a, b):\n",
    "    \"\"\"decrypts the string 'ciphertext', which was encrypted using an affine transformation key (a, b)\n",
    "    INPUT:  ciphertext - a string of encrypted letters\n",
    "            a - integer satisfying gcd(a, 26) = 1.  \n",
    "            b - integer \n",
    "            \n",
    "    OUTPUT: The decrypted message as a string of characters\n",
    "    \"\"\"\n",
    "    if (gcd(a, 26) != 1):\n",
    "        raise ValueError('The given key is invalid. The gcd(a, 26) must be 1.')\n",
    "        \n",
    "    decrypt = ''\n",
    "    slice = ''\n",
    "    a_bar = modinv(a, 26)\n",
    "    n_text = letters2digits(ciphertext)\n",
    "    \n",
    "    for number in n_text:\n",
    "        if (len(slice) != 2):\n",
    "            slice += number\n",
    "            continue\n",
    "        p = int(slice)\n",
    "        c = str((a_bar * (p - b)) % 26)\n",
    "        if (len(c) != 2):\n",
    "            c = f'0{c}'\n",
    "        slice = ''\n",
    "        slice += number\n",
    "        decrypt += digits2letters(c)\n",
    "\n",
    "    p = int(slice)\n",
    "    c = str((a_bar * (p - b)) % 26)\n",
    "    if (len(c) != 2):\n",
    "            c = f'0{c}'\n",
    "    decrypt += digits2letters(c)\n",
    "\n",
    "    return decrypt"
   ]
  },
  {
   "cell_type": "markdown",
   "metadata": {},
   "source": [
    "-----------------------------------\n",
    "\n",
    "#### Problem 4:\n",
    "\n",
    "Implement the function `encryptRSA(message, n, e)` which encrypts a string `message` using RSA key `(n = p * q, e)`.  You may NOT use any built-in functions as part of your implementation, but you may use any functions you implemented for previous coding assignments.  Please make sure to copy and paste them into this file, so that they are uploaded to CodePost when you submit your `pa3.py` file."
   ]
  },
  {
   "cell_type": "code",
   "execution_count": 66,
   "metadata": {
    "scrolled": false
   },
   "outputs": [
    {
     "data": {
      "text/plain": [
       "'3283 3285 1870 3011 2730'"
      ]
     },
     "execution_count": 66,
     "metadata": {},
     "output_type": "execute_result"
    }
   ],
   "source": [
    "def encryptRSA(message, n, e):\n",
    "    \"\"\"encrypts the plaintext message, using RSA and the key (n = p * q, e)\n",
    "    INPUT:  message - plaintext as a string of letters\n",
    "            n - a positive integer\n",
    "            e - integer satisfying gcd((p-1)*(q-1), e) = 1\n",
    "            \n",
    "    OUTPUT: The encrypted message as a string of digits\n",
    "    \"\"\"\n",
    "    #initial values that will be used in various place of the code\n",
    "    l = blocksize(n) #length of n which will serve as the blocksize\n",
    "    slice = [] #the slice of each message in number form with lengths of n\n",
    "    ls = [] #all the slices stored in a list\n",
    "    encrypt = '' #the final encrypted string\n",
    "    number = '' #holds the string form of the slice\n",
    "                   \n",
    "    message_numbers = letters2digits(message)\n",
    "    \n",
    "    while True: #cushions if all block sizes don't equal the length of n (l)\n",
    "        if (len(message_numbers) % l != 0):\n",
    "            message_numbers += '23' #adds X (23) to cushion string\n",
    "        else:\n",
    "            break\n",
    "    \n",
    "    for i in message_numbers: #divides the translated message into l blocks\n",
    "        slice.append(i)\n",
    "        if (len(slice) % l == 0):\n",
    "            ls.append(slice)\n",
    "            slice = []\n",
    "            \n",
    "    for block in ls: #encodes each block and appends it to string\n",
    "        if (len(number) == l):\n",
    "            x = int(number)\n",
    "            number = ''\n",
    "            t = str(mod_exp(x, e, n))\n",
    "            while (len(t) % l != 0): #if the length of the block is not equal to l add a 0 to the front until it is\n",
    "                t = f'0{t}'\n",
    "            encrypt += t\n",
    "            encrypt += ' '\n",
    "        for item in block:\n",
    "            number += item\n",
    "            \n",
    "    x = int(number) #translates final block that isn't captured in loop\n",
    "    t = str(mod_exp(x, e, n))\n",
    "    while (len(t) % l != 0):\n",
    "        t = f'0{t}'\n",
    "    encrypt += t\n",
    "           \n",
    "    return encrypt"
   ]
  },
  {
   "cell_type": "code",
   "execution_count": 67,
   "metadata": {},
   "outputs": [
    {
     "name": "stdout",
     "output_type": "stream",
     "text": [
      "Encrypted Message: 2081 2182\n",
      "Expected: 2081 2182\n",
      "Encrypted Message: 0981 0461\n",
      "Expected: 0981 0461\n",
      "Encrypted Message: 2081 2182 1346\n",
      "Expected: 2081 2182 1346\n",
      "Encrypted Message: 2545 2757 1211\n",
      "Expected: 2545 2757 1211\n"
     ]
    }
   ],
   "source": [
    "'''\n",
    "\"\"\"--------------------- ENCRYPTION TESTER CELL ---------------------------\"\"\"\n",
    "encrypted1 = encryptRSA(\"STOP\", 2537, 13)\n",
    "encrypted2 = encryptRSA(\"HELP\", 2537, 13)\n",
    "encrypted3 = encryptRSA(\"STOPS\", 2537, 13)\n",
    "print(\"Encrypted Message:\", encrypted1)\n",
    "print(\"Expected: 2081 2182\")\n",
    "print(\"Encrypted Message:\", encrypted2)\n",
    "print(\"Expected: 0981 0461\")\n",
    "print(\"Encrypted Message:\", encrypted3)\n",
    "print(\"Expected: 2081 2182 1346\")\n",
    "\n",
    "\n",
    "\"\"\"--------------------- TEST 2 ---------------------------\"\"\"\n",
    "encrypted = encryptRSA(\"UPLOAD\", 3233, 17)\n",
    "print(\"Encrypted Message:\", encrypted)\n",
    "print(\"Expected: 2545 2757 1211\")\n",
    "'''"
   ]
  },
  {
   "cell_type": "markdown",
   "metadata": {},
   "source": [
    "-------------------------------------------------------\n",
    "\n",
    "#### Problem 5:\n",
    "\n",
    "Complete the implementation of the function `decryptRSA(c, p, q, m)` which depends on `modinv(a,m)` and the given functions `digits2letters(digits)` and `blockSize(n)`.  When you are done, you can test your function against the given examples."
   ]
  },
  {
   "cell_type": "code",
   "execution_count": 23,
   "metadata": {},
   "outputs": [
    {
     "name": "stdout",
     "output_type": "stream",
     "text": [
      "STOP\n"
     ]
    }
   ],
   "source": [
    "def decryptRSA(cipher, p, q, e):\n",
    "    \"\"\"decrypts cipher, which was encrypted using the key (p * q, e)\n",
    "    INPUT:  cipher - ciphertext as a string of digits\n",
    "            p, q - prime numbers used as part of the key n = p * q to encrypt the ciphertext\n",
    "            e - integer satisfying gcd((p-1)*(q-1), e) = 1\n",
    "            \n",
    "    OUTPUT: The decrypted message as a string of letters\n",
    "    \"\"\"\n",
    "    n = p * q\n",
    "    e_bar = modinv(e, (p - 1) * (q - 1))\n",
    "    l = blocksize(n)\n",
    "    ls = []\n",
    "    slice = ''\n",
    "    decrypt = ''\n",
    "    \n",
    "    for number in cipher:\n",
    "        if (number == ' '):\n",
    "            continue\n",
    "            \n",
    "        if (len(slice) == l):\n",
    "            ls.append(slice)\n",
    "            slice = ''\n",
    "            slice += number\n",
    "        else:\n",
    "            slice += number\n",
    "    ls.append(slice)\n",
    "    \n",
    "    for number in ls:\n",
    "        x = int(number)\n",
    "        p = str(mod_exp(x, e_bar, n))\n",
    "        while (len(p) % l != 0):\n",
    "            p = f'0{p}'\n",
    "        decrypt += p\n",
    "        \n",
    "    return digits2letters(decrypt)"
   ]
  },
  {
   "cell_type": "code",
   "execution_count": 25,
   "metadata": {},
   "outputs": [
    {
     "name": "stdout",
     "output_type": "stream",
     "text": [
      "Decrypted Message: STOP\n",
      "Expected: STOP\n",
      "Decrypted Message: HELP\n",
      "Expected: HELP\n",
      "Decrypted Message: STOPSX\n",
      "Expected: STOPSX\n",
      "Decrypted Message: SILVER\n",
      "Expected: SILVER\n"
     ]
    }
   ],
   "source": [
    "'''\n",
    "\"\"\"--------------------- TESTER CELL ---------------------------\"\"\"\n",
    "decrypted1 = decryptRSA(\"2081 2182\", 43, 59, 13)\n",
    "decrypted2 = decryptRSA(\"0981 0461\", 43, 59, 13)\n",
    "decrypted3 = decryptRSA(\"2081 2182 1346\", 43, 59, 13)\n",
    "print(\"Decrypted Message:\", decrypted1)\n",
    "print(\"Expected: STOP\")\n",
    "print(\"Decrypted Message:\", decrypted2)\n",
    "print(\"Expected: HELP\")\n",
    "print(\"Decrypted Message:\", decrypted3)\n",
    "print(\"Expected: STOPSX\")\n",
    "\n",
    "\"\"\"--------------------- TEST 2---------------------------\"\"\"\n",
    "decrypted = decryptRSA(\"0667 1947 0671\", 43, 59, 13)\n",
    "print(\"Decrypted Message:\", decrypted)\n",
    "print(\"Expected: SILVER\")\n",
    "'''"
   ]
  }
 ],
 "metadata": {
  "kernelspec": {
   "display_name": "Python 3 (ipykernel)",
   "language": "python",
   "name": "python3"
  },
  "language_info": {
   "codemirror_mode": {
    "name": "ipython",
    "version": 3
   },
   "file_extension": ".py",
   "mimetype": "text/x-python",
   "name": "python",
   "nbconvert_exporter": "python",
   "pygments_lexer": "ipython3",
   "version": "3.9.13"
  }
 },
 "nbformat": 4,
 "nbformat_minor": 2
}
