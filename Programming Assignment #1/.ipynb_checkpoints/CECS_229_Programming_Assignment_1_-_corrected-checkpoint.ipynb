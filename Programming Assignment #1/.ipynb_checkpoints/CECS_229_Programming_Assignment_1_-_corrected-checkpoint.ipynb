{
 "cells": [
  {
   "cell_type": "markdown",
   "metadata": {},
   "source": [
    "# CECS 229: Programming Assignment #1\n",
    "\n",
    "#### Due Date: \n",
    "\n",
    "Sunday, 2/5 @ 11:59 PM\n",
    "\n",
    "#### Submission Instructions:\n",
    "\n",
    "To receive credit for this assignment, you must submit **to CodePost** this file converted to a Python script named `pa1.py`\n",
    "\n",
    "#### Objectives:\n",
    "\n",
    "1. Compute the quotient and remainder of two numbers.\n",
    "2. Apply numerical algorithms for computing the sum of two numbers in binary representation.\n",
    "3. Apply numerical algorithms for computing the modular exponentiation of a positive integer.\n",
    "\n"
   ]
  },
  {
   "cell_type": "markdown",
   "metadata": {},
   "source": [
    "--------------------------------\n",
    "\n",
    "#### Problem 1:\n",
    "\n",
    "Program a function `div_alg(a, d)` that computes the quotient and remainder of $$a \\div d$$ according to the Division Algorithm (THM 4.1.2).   \n",
    "\n",
    "The function should satisfy the following:\n",
    "\n",
    "1. INPUT: \n",
    "    * `a` - an integer representing the dividend\n",
    "    * `d` - positive integer representing the divisor\n",
    "\n",
    "    \n",
    "2. OUTPUT:\n",
    "    * a dictionary of the form `{'quotient' : q, 'remainder' : r}` where `q` and `r` are the quotient and remainder values, respectively.  The remainder should satisfy, $0 \\leq r < d$.\n",
    "\n",
    " \n",
    "EXAMPLE: \n",
    "\n",
    "`>> div_alg( 101 , 11 )`\n",
    "\n",
    "`{'quotient' : 9, 'remainder' : 2}`"
   ]
  },
  {
   "cell_type": "code",
   "execution_count": 2,
   "metadata": {},
   "outputs": [
    {
     "name": "stdout",
     "output_type": "stream",
     "text": [
      "{'quotient': 9, 'remainder': 2}\n"
     ]
    }
   ],
   "source": [
    "def div_alg(a, d):\n",
    "    # FIXME: Implement this function\n",
    "    q = a // d\n",
    "    r = a % d\n",
    "    return {'quotient': q, 'remainder': r}"
   ]
  },
  {
   "cell_type": "markdown",
   "metadata": {},
   "source": [
    "--------------------------------\n",
    "\n",
    "#### Problem 2:\n",
    "\n",
    "Program a function `binary_add(a, b)` that computes the sum of the binary numbers  $$a = (a_{i-1}, a_{i-2}, \\dots, a_0)_2$$ and $$b = (b_{j-1}, b_{j-2}, \\dots, b_0)_2$$ using the algorithm discussed in lecture.  No credit will be given to functions that employ any other implementation.  The function can not use built-in functions that already perform some kind of binary representation or addition of binary numbers.  For example, the function implementation can **not** use the functions `bin()` or `int(a, base=2)`.\n",
    "\n",
    "The function should satisfy the following:\n",
    "\n",
    "1. INPUT: \n",
    "    * `a` - a string of the 0's and 1's that make up the first binary number.  The string *may* contain spaces.\n",
    "    * `b` - a string of the 0's and 1's that make up the first binary number.  The string *may* contain spaces.\n",
    "\n",
    "    \n",
    "2. OUTPUT:\n",
    "    * the string of 0's and 1's that is the result of computing $a + b$.  The string must be separated by spaces into blocks of 4 characters or less, beginning at the end of the string.\n",
    "\n",
    " \n",
    "EXAMPLE: \n",
    "\n",
    "`>> binary_add( '10 1011' , '11011')`\n",
    "\n",
    "`'100 0110'`\n",
    "\n",
    "\n"
   ]
  },
  {
   "cell_type": "code",
   "execution_count": 67,
   "metadata": {},
   "outputs": [
    {
     "name": "stdout",
     "output_type": "stream",
     "text": [
      "10 0110\n"
     ]
    }
   ],
   "source": [
    "def binary_add(a, b):\n",
    "    #FIXME: Implement this method\n",
    "    x = a.replace(' ', '') #gets rid of spaces\n",
    "    y = b.replace(' ', '')\n",
    "    temp = '' \n",
    "    result = ''\n",
    "    carry = 0\n",
    "    \n",
    "    while (len(x) != len(y)): #adds a 0 to the beginning of the smallest string until both strings are equal\n",
    "        if (len(x) < len(y)):\n",
    "            w = x[::-1]\n",
    "            w += '0'\n",
    "            x = w[::-1]\n",
    "        else:\n",
    "            w = y[::-1]\n",
    "            w += '0'\n",
    "            y = w[::-1]\n",
    "\n",
    "    for i in range(len(x) - 1, -1, -1): #adds the two binary numbers together\n",
    "        if (carry == 0):\n",
    "            r = int(x[i]) + int(y[i])\n",
    "        else:\n",
    "            r = int(x[i]) + int(y[i]) + carry\n",
    "            carry -= 1\n",
    "            \n",
    "        if (r > 1):\n",
    "            carry += 1\n",
    "            if (r == 2):\n",
    "                temp += '0'\n",
    "                r = 0\n",
    "                continue\n",
    "            else:\n",
    "                temp += '1'\n",
    "                r = 0\n",
    "                continue\n",
    "                \n",
    "        temp += str(r)\n",
    "        \n",
    "    if (carry == 1):\n",
    "        temp += '1'\n",
    "        \n",
    "    temp = list(temp) #makes temporary string into list\n",
    "    \n",
    "    step = 4\n",
    "    for i in range(0, len(temp), 4): #spaces the binary numbers into 4 characters each and adds them to string\n",
    "        slice = temp[i:step]\n",
    "        if (len(slice) == 4):\n",
    "            for j in range(len(slice)):\n",
    "                result += slice[j]\n",
    "            result += ' '\n",
    "        else:\n",
    "            for j in range(len(slice)):\n",
    "                result += slice[j]\n",
    "        step += 4  \n",
    "        \n",
    "        \n",
    "    return result[::-1] #returns reversed result string\n",
    "    "
   ]
  },
  {
   "cell_type": "markdown",
   "metadata": {},
   "source": [
    "--------------------------------\n",
    "\n",
    "#### Problem 3:\n",
    "\n",
    "Program a function `mod_exp(b, n, m)` that computes $$b^n \\mod m$$ using the algorithm discussed in lecture.  No credit will be given to functions that employ any other implementation.  For example, if the function implementation simply consists of `b ** n % m`, no credit will be given.  \n",
    "\n",
    "The function should satisfy the following:\n",
    "\n",
    "1. INPUT: \n",
    "    * `b` - positive integer representing the base\n",
    "    * `n` - positive integer representing the exponent\n",
    "    * `m` - positive integer representing the modulo\n",
    "\n",
    "    \n",
    "2. OUTPUT:\n",
    "    * the computation of $b^n \\mod m$ if b, n, m are positive integers, 0 otherwise.\n",
    "\n",
    " \n",
    "EXAMPLE: \n",
    "\n",
    "`>> mod_exp( 3 , 644, 645 )`\n",
    "\n",
    "`36`\n",
    "\n",
    "\n"
   ]
  },
  {
   "cell_type": "code",
   "execution_count": 71,
   "metadata": {
    "scrolled": true
   },
   "outputs": [
    {
     "name": "stdout",
     "output_type": "stream",
     "text": [
      "13\n"
     ]
    }
   ],
   "source": [
    "def mod_exp(b, n, m):\n",
    "    # FIXME: Implement this function\n",
    "    return ((b ** (n//2)) % m) * ((b ** (n//2)) % m) % m\n",
    "    pass\n",
    "def test(b, n, m):\n",
    "    return (b**n) % m\n",
    "print(mod_exp(3, 4, 17))"
   ]
  }
 ],
 "metadata": {
  "kernelspec": {
   "display_name": "Python 3 (ipykernel)",
   "language": "python",
   "name": "python3"
  },
  "language_info": {
   "codemirror_mode": {
    "name": "ipython",
    "version": 3
   },
   "file_extension": ".py",
   "mimetype": "text/x-python",
   "name": "python",
   "nbconvert_exporter": "python",
   "pygments_lexer": "ipython3",
   "version": "3.9.13"
  }
 },
 "nbformat": 4,
 "nbformat_minor": 2
}
